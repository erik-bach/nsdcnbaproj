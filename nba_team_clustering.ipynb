{
 "cells": [
  {
   "cell_type": "code",
   "execution_count": null,
   "outputs": [],
   "source": [
    "import pandas as pd\n",
    "from sklearn.preprocessing import StandardScaler\n",
    "from sklearn.cluster import KMeans\n",
    "import matplotlib.pyplot as plt\n",
    "import numpy as np"
   ],
   "metadata": {
    "collapsed": false,
    "pycharm": {
     "name": "#%%\n"
    }
   }
  },
  {
   "cell_type": "code",
   "execution_count": null,
   "outputs": [],
   "source": [
    "data = pd.read_csv(\"data/raw/nba_teams.csv\")\n",
    "coordinates = data[['latitude', 'longitude']]"
   ],
   "metadata": {
    "collapsed": false,
    "pycharm": {
     "name": "#%%\n"
    }
   }
  },
  {
   "cell_type": "code",
   "execution_count": null,
   "outputs": [],
   "source": [
    "scaler = StandardScaler()\n",
    "normalized_coordinates = scaler.fit_transform(coordinates)"
   ],
   "metadata": {
    "collapsed": false,
    "pycharm": {
     "name": "#%%\n"
    }
   }
  },
  {
   "cell_type": "code",
   "execution_count": null,
   "outputs": [],
   "source": [
    "data_mean = np.mean(normalized_coordinates, axis=0)\n",
    "\n",
    "# Calculate initial centroids for two clusters\n",
    "centroid1 = data_mean - np.std(normalized_coordinates, axis=0)  # Move one standard deviation left\n",
    "centroid2 = data_mean + np.std(normalized_coordinates, axis=0)  # Move one standard deviation right\n",
    "\n",
    "# Create a list of initial centroids\n",
    "initial_centroids = [centroid1, centroid2]\n",
    "\n",
    "# Perform K-Means clustering with the custom initial centroids\n",
    "num_clusters = 2\n",
    "n_init = 10  # Number of initializations\n",
    "kmeans = KMeans(n_clusters=num_clusters, init=np.array(initial_centroids), n_init=n_init, random_state=42)\n",
    "cluster_labels = kmeans.fit_predict(normalized_coordinates)"
   ],
   "metadata": {
    "collapsed": false,
    "pycharm": {
     "name": "#%%\n"
    }
   }
  },
  {
   "cell_type": "code",
   "execution_count": null,
   "outputs": [],
   "source": [
    "cluster_labels_replaced = ['West' if label == 1 else 'East' for label in cluster_labels]\n",
    "data[\"label\"] = cluster_labels_replaced"
   ],
   "metadata": {
    "collapsed": false,
    "pycharm": {
     "name": "#%%\n"
    }
   }
  },
  {
   "cell_type": "code",
   "execution_count": null,
   "outputs": [],
   "source": [
    "print(data)"
   ],
   "metadata": {
    "collapsed": false,
    "pycharm": {
     "name": "#%%\n"
    }
   }
  },
  {
   "cell_type": "code",
   "execution_count": 78,
   "metadata": {
    "pycharm": {
     "name": "#%%\n"
    }
   },
   "outputs": [],
   "source": [
    "cluster_labels_replaced = ['West' if label == 1 else 'East' for label in cluster_labels]\n",
    "data[\"label\"] = cluster_labels_replaced"
   ]
  },
  {
   "cell_type": "code",
   "execution_count": 80,
   "metadata": {
    "pycharm": {
     "name": "#%%\n"
    }
   },
   "outputs": [
    {
     "name": "stdout",
     "output_type": "stream",
     "text": [
      "                      name                       arena  \\\n",
      "0            Atlanta Hawks            State Farm Arena   \n",
      "1           Boston Celtics                   TD Garden   \n",
      "2            Brooklyn Nets             Barclays Center   \n",
      "3        Charlotte Hornets             Spectrum Center   \n",
      "4            Chicago Bulls               United Center   \n",
      "5      Cleveland Cavaliers  Rocket Mortgage Fieldhouse   \n",
      "6         Dallas Mavericks    American Airlines Center   \n",
      "7           Denver Nuggets                Pepsi Center   \n",
      "8          Detroit Pistons        Little Caesars Arena   \n",
      "9    Golden State Warriors                Chase Center   \n",
      "10         Houston Rockets               Toyota Center   \n",
      "11          Indiana Pacers     Bankers Life Fieldhouse   \n",
      "12    Los Angeles Clippers              Staples Center   \n",
      "13      Los Angeles Lakers              Staples Center   \n",
      "14       Memphis Grizzlies                 FedEx Forum   \n",
      "15              Miami Heat     American Airlines Arena   \n",
      "16         Milwaukee Bucks                Fiserv Forum   \n",
      "17  Minnesota Timberwolves               Target Center   \n",
      "18    New Orleans Pelicans        Smoothie King Center   \n",
      "19         New York Knicks       Madison Square Garden   \n",
      "20   Oklahoma City Thunder     Chesapeake Energy Arena   \n",
      "21           Orlando Magic                Amway Center   \n",
      "22      Philadelphia 76ers          Wells Fargo Center   \n",
      "23            Phoenix Suns  Talking Stick Resort Arena   \n",
      "24  Portland Trail Blazers                 Moda Center   \n",
      "25        Sacramento Kings             Golden 1 Center   \n",
      "26       San Antonio Spurs                 AT&T Center   \n",
      "27         Toronto Raptors            Scotiabank Arena   \n",
      "28               Utah Jazz     Vivint Smart Home Arena   \n",
      "29      Washington Wizards           Capital One Arena   \n",
      "\n",
      "                      location seating capacity  opening year   latitude  \\\n",
      "0             Atlanta, Georgia           18,118          1999  33.748992   \n",
      "1        Boston, Massachusetts           18,624          1995  42.355433   \n",
      "2           Brooklyn, New York           17,732          2012  40.652601   \n",
      "3    Charlotte, North Carolina           19,077          2005  35.227209   \n",
      "4            Chicago, Illinois           20,917          1994  41.875562   \n",
      "5              Cleveland, Ohio           19,432          1994  41.499657   \n",
      "6                Dallas, Texas           19,200          2001  32.776272   \n",
      "7             Denver, Colorado           19,520          1999  39.739236   \n",
      "8            Detroit, Michigan           20,491          2017  42.331551   \n",
      "9    San Francisco, California           18,064          2019  37.779026   \n",
      "10              Houston, Texas           18,055          2003  29.758938   \n",
      "11       Indianapolis, Indiana           17,923          1999  39.768333   \n",
      "12     Los Angeles, California           19,068          1999  34.053691   \n",
      "13     Los Angeles, California           19,068          1999  34.053691   \n",
      "14          Memphis, Tennessee           17,794          2004  35.146025   \n",
      "15              Miami, Florida           19,600          1999  25.774173   \n",
      "16        Milwaukee, Wisconsin           17,500          2018  43.034993   \n",
      "17      Minneapolis, Minnesota           18,978          1990  44.977300   \n",
      "18      New Orleans, Louisiana           16,867          1999  29.975998   \n",
      "19     New York City, New York           19,812          1968  40.712728   \n",
      "20     Oklahoma City, Oklahoma           18,203          2002  35.472989   \n",
      "21            Orlando, Florida           18,846          2010  28.542111   \n",
      "22  Philadelphia, Pennsylvania           20,478          1996  39.952724   \n",
      "23            Phoenix, Arizona           18,055          1992  33.448437   \n",
      "24            Portland, Oregon           19,441          1995  45.520247   \n",
      "25      Sacramento, California           17,583          2016  38.581061   \n",
      "26          San Antonio, Texas           18,418          2002  29.424600   \n",
      "27            Toronto, Ontario           19,800          1999  43.653482   \n",
      "28        Salt Lake City, Utah           18,306          1991  40.759620   \n",
      "29            Washington, D.C.           20,356          1997  48.125152   \n",
      "\n",
      "     longitude label  \n",
      "0   -84.390264  East  \n",
      "1   -71.060511  West  \n",
      "2   -73.949721  West  \n",
      "3   -80.843083  West  \n",
      "4   -87.624421  West  \n",
      "5   -81.693677  West  \n",
      "6   -96.796856  East  \n",
      "7  -104.984862  East  \n",
      "8   -83.046640  West  \n",
      "9  -122.419906  East  \n",
      "10  -95.367697  East  \n",
      "11  -86.158350  West  \n",
      "12 -118.242766  East  \n",
      "13 -118.242766  East  \n",
      "14  -90.051764  East  \n",
      "15  -80.193620  East  \n",
      "16  -87.922497  West  \n",
      "17  -93.265469  West  \n",
      "18  -90.078213  East  \n",
      "19  -74.006015  West  \n",
      "20  -97.517054  East  \n",
      "21  -81.379030  East  \n",
      "22  -75.163526  West  \n",
      "23 -112.074141  East  \n",
      "24 -122.674194  East  \n",
      "25 -121.493895  East  \n",
      "26  -98.495141  East  \n",
      "27  -79.383935  West  \n",
      "28 -111.886797  East  \n",
      "29 -123.452543  West  \n"
     ]
    }
   ],
   "source": [
    "print(data)"
   ]
  },
  {
   "cell_type": "code",
   "execution_count": 62,
   "metadata": {
    "pycharm": {
     "name": "#%%\n"
    }
   },
   "outputs": [
    {
     "data": {
      "image/png": "[encoded data removed]",
      "text/plain": [
       "<Figure size 432x288 with 1 Axes>"
      ]
     },
     "metadata": {
      "needs_background": "light"
     },
     "output_type": "display_data"
    }
   ],
   "source": [
    "plt.scatter(data['longitude'], data['latitude'], c=clusters, cmap='rainbow')\n",
    "plt.scatter(kmeans.cluster_centers_[:, 1], kmeans.cluster_centers_[:, 0], marker='x', color='black')\n",
    "plt.xlabel('Longitude')\n",
    "plt.ylabel('Latitude')\n",
    "plt.title('NBA Team Clusters')\n",
    "plt.show()"
   ]
  }
 ],
 "metadata": {
  "kernelspec": {
   "display_name": "Python 3 (ipykernel)",
   "language": "python",
   "name": "python3"
  },
  "language_info": {
   "codemirror_mode": {
    "name": "ipython",
    "version": 3
   },
   "file_extension": ".py",
   "mimetype": "text/x-python",
   "name": "python",
   "nbconvert_exporter": "python",
   "pygments_lexer": "ipython3",
   "version": "3.9.12"
  }
 },
 "nbformat": 4,
 "nbformat_minor": 1
}